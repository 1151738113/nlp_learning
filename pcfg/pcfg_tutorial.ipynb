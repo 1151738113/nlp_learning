{
 "cells": [
  {
   "cell_type": "markdown",
   "metadata": {},
   "source": [
    "# python 实现PCFG\n",
    "\n",
    "本例子主要受 Michael Collins 教授的 Probabilistic Context-Free Grammars (PCFGs) 启发而编写，为了帮助大家理解，我在我的博客、公众号上发表了文章[一文读懂NLP中的PCFG(公众号)](https://mp.weixin.qq.com/s?__biz=MzIwNDM1NjUzMA==&mid=2247483666&idx=1&sn=708dcbce5be808b3be273838db298da7&chksm=96c02fcfa1b7a6d99a69c35e0de413488d4da4dc13c4ab3d21c8a415c8f2310c141676a068e0#rd)，欢迎大家阅读。当然强烈推荐Michael Collins 教授的 [Probabilistic Context-Free Grammars (PCFGs)](http://www.cs.columbia.edu/~mcollins/courses/nlp2011/notes/pcfgs.pdf)\n",
    "\n",
    "pcfg 常用于生成文法解析树，再这里使用CKY算法对CNF（Chomsky Normal Form）的文法进行解析"
   ]
  },
  {
   "cell_type": "markdown",
   "metadata": {},
   "source": [
    "## 目录\n",
    "\n",
    "1. [项目结构](#项目结构)\n",
    "2. [环境要求](#环境要求)\n",
    "3. [代码分析](#代码分析)\n",
    "4. [项目后续](#项目后续)\n",
    "5. [联系作者](#联系作者)"
   ]
  },
  {
   "cell_type": "markdown",
   "metadata": {},
   "source": [
    "## 项目结构\n",
    "\n",
    "| - src\n",
    "\n",
    "    | - corpus        语料库\n",
    "\n",
    "    | - pcfg.py       \n",
    "\n",
    "    | - main.py       例子程序"
   ]
  },
  {
   "cell_type": "markdown",
   "metadata": {},
   "source": [
    "## 环境要求\n",
    "\n",
    "    python3"
   ]
  },
  {
   "cell_type": "markdown",
   "metadata": {},
   "source": [
    "## 代码分析"
   ]
  },
  {
   "cell_type": "markdown",
   "metadata": {},
   "source": [
    "### pcfg.py\n"
   ]
  },
  {
   "cell_type": "code",
   "execution_count": 1,
   "metadata": {
    "collapsed": true
   },
   "outputs": [],
   "source": [
    "# !/usr/bin/env python3\n",
    "# -*- coding: utf-8 -*-\n",
    "\n",
    "# -------------------------------------------#\n",
    "# PCFG Parser\t                             #\n",
    "# author: sean lee                           #\n",
    "# qq: 929325776\t\t\t\t\t\t\t     #\n",
    "# email: lxm_0828@163.com                    #\n",
    "#--------------------------------------------#\n",
    "\n",
    "from collections import defaultdict\n",
    "\n",
    "class PCFG(object):\n",
    "\n",
    "\t# N_dict - count nonterminal\n",
    "\t# NR_dict - count relation X->Y1 Y2 (X Y1 Y2 are nonterminal)\n",
    "\t# TR_dict - count relation X->y (X is nonterminal y is terminal)\n",
    "\tdef __init__(self):\n",
    "\t\tself.N_dict = defaultdict(int)\n",
    "\t\tself.NR_dict = defaultdict(int)\n",
    "\t\tself.TR_dict = defaultdict(int)\n",
    "\n",
    "\tdef fit(self, train_corpus):\n",
    "\t\twith open(train_corpus, 'r') as f:\n",
    "\t\t\tfor line in f:\n",
    "\t\t\t\tarr = line.strip().split('->')\n",
    "\t\t\t\tself.N_dict[arr[0]] += 1;\n",
    "\t\t\t\tif ' ' in arr[1].strip():\n",
    "\t\t\t\t\tarr2 = arr[1].split()\n",
    "\t\t\t\t\tif len(arr2) > 2:\n",
    "\t\t\t\t\t\tcontinue\n",
    "\t\t\t\t\tself.N_dict[arr2[0]] += 1\n",
    "\t\t\t\t\tself.N_dict[arr2[1]] += 1\n",
    "\t\t\t\t\tself.NR_dict[(arr[0], arr2[0], arr2[1])] += 1\n",
    "\t\t\t\telse:\n",
    "\t\t\t\t\tself.TR_dict[(arr[0], arr[1])] += 1\n",
    "\t# q(X->Y Z)\n",
    "\tdef calc_NR_proba(self, x, y1, y2):\n",
    "\t\treturn float(self.NR_dict[(x, y1, y2)]) / self.N_dict[x]\n",
    "\n",
    "\t# q(X->y)\n",
    "\tdef calc_TR_proba(self, x, y):\n",
    "\t\treturn float(self.TR_dict[(x, y)]) / self.N_dict[x]\n",
    "\n",
    "\t# Return parse tree\n",
    "\tdef parse(self, sentence):\n",
    "\t\timport json\n",
    "\t\tprint(json.dumps(self.CKY(sentence.split())))\n",
    "\n",
    "\t# CKY algorithm \n",
    "\t# 适用于CNF (Chomsky normal form)\n",
    "\tdef CKY(self, sentence):\n",
    "\t\tn = len(sentence)\n",
    "\t\tpi = defaultdict(float) \n",
    "\t\tbp = {}\t# backpointer\n",
    "\t\tN = self.N_dict.keys()\n",
    "\n",
    "\t\tfor i in range(n):\n",
    "\t\t\tword = sentence[i]\n",
    "\t\t\tfor X in N:\n",
    "\t\t\t\tpi[(i, i, X)] = self.calc_TR_proba(X, word)\n",
    "\n",
    "\t\tfor i in range(1, n):\n",
    "\t\t\tfor j in range(n-1):\n",
    "\t\t\t\tk = i + j\n",
    "\t\t\t\tfor X in N:\n",
    "\t\t\t\t\tmax_score = 0\n",
    "\t\t\t\t\targmax = None\n",
    "\t\t\t\t\tfor R in self.NR_dict.keys():\n",
    "\t\t\t\t\t\tif R[0] == X:  # start from X\n",
    "\t\t\t\t\t\t\tY, Z = R[1:]\n",
    "\t\t\t\t\t\t\tfor s in range(j, k):\n",
    "\t\t\t\t\t\t\t\tif pi[(j, s, Y)] and pi[s+1, k, Z]:\n",
    "\t\t\t\t\t\t\t\t\tscore = self.calc_NR_proba(X, Y, Z) * pi[(j, s, Y)] * pi[s+1, k, Z]\n",
    "\t\t\t\t\t\t\t\t\tif max_score < score:\n",
    "\t\t\t\t\t\t\t\t\t\tmax_score = score\n",
    "\t\t\t\t\t\t\t\t\t\targmax = Y, Z, s\n",
    "\t\t\t\t\tif max_score:\n",
    "\t\t\t\t\t\tpi[j, k, X] = max_score\n",
    "\t\t\t\t\t\tbp[j, k, X] = argmax\n",
    "\n",
    "\t\t# return\n",
    "\t\tif pi[(0, n-1, 'S')]:\n",
    "\t\t\treturn self.recover(sentence, bp, 0, n-1, 'S')\n",
    "\t\telse:\n",
    "\t\t\tmax_score = 0\n",
    "\t\t\targmax = 0, 0, 'S'\n",
    "\t\t\tfor X in N:\n",
    "\t\t\t\tif max_score < pi[(0, n-1, X)]:\n",
    "\t\t\t\t\tmax_score = pi[(0, n-1, X)]\n",
    "\t\t\t\t\targmax = 0, n-1, X\n",
    "\t\t\treturn self.recover(sentence, bp, *argmax)\n",
    "\n",
    "\t#  Return the list of the parsed tree with back pointers.\n",
    "\tdef recover(self, sentence, bp, i, j, X):\n",
    "\t\tif i == j:\n",
    "\t\t\treturn [X, sentence[i]]\n",
    "\t\telse:\n",
    "\t\t\tY, Z, s = bp[i, j, X]\n",
    "\t\t\treturn [X, self.recover(sentence, bp, i, s, Y), self.recover(sentence, bp, s+1, j, Z)]"
   ]
  },
  {
   "cell_type": "markdown",
   "metadata": {},
   "source": [
    "### main.py"
   ]
  },
  {
   "cell_type": "code",
   "execution_count": 7,
   "metadata": {},
   "outputs": [
    {
     "name": "stdout",
     "output_type": "stream",
     "text": [
      "sentence: the man saw the dog\n",
      "parse tree\n",
      "[\"S\", [\"NP\", [\"DT\", \"the\"], [\"NN\", \"man\"]], [\"VP\", [\"Vt\", \"saw\"], [\"NP\", [\"DT\", \"the\"], [\"NN\", \"dog\"]]]]\n"
     ]
    }
   ],
   "source": [
    "# !/usr/bin/env python3\n",
    "# -*- coding: utf-8 -*-\n",
    "\n",
    "# -------------------------------------------#\n",
    "# main.py    \t                             #\n",
    "# author: sean lee                           #\n",
    "# qq: 929325776\t\t\t\t\t\t\t     #\n",
    "# email: lxm_0828@163.com                    #\n",
    "#--------------------------------------------#\n",
    "\n",
    "parser = PCFG()\n",
    "parser.fit('./corpus/toy/train.txt')\n",
    "\n",
    "'''\n",
    "print(parser.N_dict)\n",
    "print(parser.NR_dict)\n",
    "print(parser.TR_dict)\n",
    "'''\n",
    "\n",
    "sentence = \"the man saw the dog\"\n",
    "print(\"sentence:\", sentence)\n",
    "print(\"parse tree\")\n",
    "parser.parse(sentence)"
   ]
  },
  {
   "cell_type": "markdown",
   "metadata": {},
   "source": [
    "## 项目后续\n",
    "\n",
    "过段时间会加入深度学习在NLP上的应用，如果你感兴趣，可以关注我的公众号，或者star, watch 本项目哦"
   ]
  },
  {
   "cell_type": "markdown",
   "metadata": {},
   "source": [
    "## 联系作者\n",
    "\n",
    "@author sean\n",
    "\n",
    "@qq 929325776\n",
    "\n",
    "有什么问题，可以联系我，一起讨论"
   ]
  }
 ],
 "metadata": {
  "kernelspec": {
   "display_name": "Python 3",
   "language": "python",
   "name": "python3"
  },
  "language_info": {
   "codemirror_mode": {
    "name": "ipython",
    "version": 3
   },
   "file_extension": ".py",
   "mimetype": "text/x-python",
   "name": "python",
   "nbconvert_exporter": "python",
   "pygments_lexer": "ipython3",
   "version": "3.6.1"
  }
 },
 "nbformat": 4,
 "nbformat_minor": 2
}
